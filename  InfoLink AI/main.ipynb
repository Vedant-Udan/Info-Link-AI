{
 "cells": [
  {
   "cell_type": "code",
   "execution_count": 1,
   "metadata": {},
   "outputs": [],
   "source": [
    "# import langchain.agents import load_tools\n",
    "import os\n",
    "import langchain\n",
    "from langchain.callbacks import get_openai_callback\n",
    "from langchain.tools import  Tool, DuckDuckGoSearchResults, YouTubeSearchTool\n",
    "from langchain.agents import AgentExecutor\n",
    "from langchain_openai import ChatOpenAI\n",
    "from langchain.agents.output_parsers.openai_tools import OpenAIToolsAgentOutputParser\n",
    "from langchain_core.prompts import ChatPromptTemplate, MessagesPlaceholder"
   ]
  },
  {
   "cell_type": "code",
   "execution_count": 2,
   "metadata": {},
   "outputs": [],
   "source": [
    "os.environ[\"OPENAI_API_KEY\"] = \"<your api key>\"\n",
    "os.environ[\"SERPAPI_API_KEY\"] = \"<your serpapi key>\""
   ]
  },
  {
   "cell_type": "code",
   "execution_count": 3,
   "metadata": {},
   "outputs": [],
   "source": [
    "search = DuckDuckGoSearchResults()\n",
    "\n",
    "search_tool = Tool.from_function(\n",
    "    func=search.run,\n",
    "    name=\"Search\",\n",
    "    description=\"useful for when you need to search the internet for information, Also for link and source. You should give priority to using it.\"\n",
    ")\n",
    "\n",
    "youtubesearch = YouTubeSearchTool()\n",
    "youtube_tool = Tool.from_function(\n",
    "    func = youtubesearch.run,\n",
    "    name=\"youtubesearch\",\n",
    "    description=\"useful when you need link of video from youtube.\"   \n",
    ")\n"
   ]
  },
  {
   "cell_type": "code",
   "execution_count": 18,
   "metadata": {},
   "outputs": [],
   "source": [
    "\n",
    "llm = ChatOpenAI(model=\"gpt-3.5-turbo\", temperature=0)"
   ]
  },
  {
   "cell_type": "code",
   "execution_count": 25,
   "metadata": {},
   "outputs": [],
   "source": [
    "tools = [search_tool, youtube_tool]"
   ]
  },
  {
   "cell_type": "code",
   "execution_count": 26,
   "metadata": {},
   "outputs": [
    {
     "name": "stderr",
     "output_type": "stream",
     "text": [
      "/home/vedant/Documents/datascience/summer vacation project/personal_assistant/env/lib/python3.10/site-packages/langchain_core/_api/deprecation.py:189: LangChainDeprecationWarning: The function `format_tool_to_openai_function` was deprecated in LangChain 0.1.16 and will be removed in 0.2.0. Use langchain_core.utils.function_calling.convert_to_openai_function() instead.\n",
      "  _obj_type = \"attribute\"\n"
     ]
    }
   ],
   "source": [
    "llm_with_tools = llm.bind_tools(tools)"
   ]
  },
  {
   "cell_type": "code",
   "execution_count": 27,
   "metadata": {},
   "outputs": [],
   "source": [
    "\n",
    "prompt = ChatPromptTemplate.from_messages(\n",
    "    [\n",
    "        (\n",
    "            \"system\",\n",
    "            '''As my assistant, I rely on you to provide detailed and accurate answers to my queries. \n",
    "            Utilize your language abilities and internet search tools to fetch relevant resources that enhance my understanding of the topic. \n",
    "            Please include links to these resources along with your response. Your assistance in synthesizing information is highly valued.''',\n",
    "        ),\n",
    "        (\"user\", \"{input}\"),\n",
    "        MessagesPlaceholder(variable_name=\"agent_scratchpad\"),\n",
    "    ]\n",
    ")"
   ]
  },
  {
   "cell_type": "code",
   "execution_count": 28,
   "metadata": {},
   "outputs": [],
   "source": [
    "from langchain.agents.format_scratchpad.openai_tools import (\n",
    "    format_to_openai_tool_messages,\n",
    ")\n",
    "\n",
    "agent = (\n",
    "    {\n",
    "        \"input\": lambda x: x[\"input\"],\n",
    "        \"agent_scratchpad\": lambda x: format_to_openai_tool_messages(\n",
    "            x[\"intermediate_steps\"]\n",
    "        ),\n",
    "    }\n",
    "    | prompt\n",
    "    | llm_with_tools\n",
    "    | OpenAIToolsAgentOutputParser()\n",
    ")"
   ]
  },
  {
   "cell_type": "code",
   "execution_count": 29,
   "metadata": {},
   "outputs": [],
   "source": [
    "agent_executor = AgentExecutor(agent=agent, tools=tools, verbose=True)"
   ]
  },
  {
   "cell_type": "code",
   "execution_count": 37,
   "metadata": {},
   "outputs": [
    {
     "name": "stdout",
     "output_type": "stream",
     "text": [
      "\n",
      "\n",
      "\u001b[1m> Entering new AgentExecutor chain...\u001b[0m\n",
      "\u001b[32;1m\u001b[1;3mLLMs in AI refer to Language Model-based Machine Learning models in the field of Artificial Intelligence. LLMs are a type of machine learning model that uses language models to process and understand natural language data. These models are trained on large amounts of text data and can generate human-like text, answer questions, and perform various language-related tasks.\n",
      "\n",
      "LLMs are typically based on deep learning techniques, such as recurrent neural networks (RNNs) or transformer models. They learn to predict the next word or sequence of words in a given context, which allows them to generate coherent and contextually relevant text.\n",
      "\n",
      "Some popular examples of LLMs in AI include OpenAI's GPT (Generative Pre-trained Transformer) models, such as GPT-3, which have demonstrated impressive language generation capabilities. These models have been used for tasks like text completion, language translation, chatbots, and even creative writing.\n",
      "\n",
      "LLMs have a wide range of applications in natural language processing, including text generation, sentiment analysis, language translation, question answering systems, and more. They have significantly advanced the field of AI by enabling machines to understand and generate human-like text.\n",
      "\n",
      "To learn more about LLMs in AI, you can refer to the following resources:\n",
      "\n",
      "1. \"The Illustrated GPT-2\" by Jay Alammar: This article provides a visual and intuitive explanation of how GPT-2, a popular LLM, works.\n",
      "   Link: [The Illustrated GPT-2](http://jalammar.github.io/illustrated-gpt2/)\n",
      "\n",
      "2. \"Language Models are Few-Shot Learners\" by OpenAI: This research paper introduces GPT-3, a highly advanced LLM, and discusses its capabilities and applications.\n",
      "   Link: [Language Models are Few-Shot Learners](https://arxiv.org/abs/2005.14165)\n",
      "\n",
      "3. \"Transformers Explained\" by Jay Alammar: This article provides a detailed explanation of transformer models, which are the backbone of many LLMs.\n",
      "   Link: [Transformers Explained](http://jalammar.github.io/illustrated-transformer/)\n",
      "\n",
      "These resources will give you a comprehensive understanding of LLMs in AI and their significance in natural language processing.\u001b[0m\n",
      "\n",
      "\u001b[1m> Finished chain.\u001b[0m\n",
      "Tokens Used: 619\n",
      "\tPrompt Tokens: 164\n",
      "\tCompletion Tokens: 455\n",
      "Successful Requests: 1\n",
      "Total Cost (USD): $0.001156\n"
     ]
    }
   ],
   "source": [
    "with get_openai_callback() as cb:\n",
    "    list(agent_executor.stream({\"input\": \"What are LLMs in AI?\"}))\n",
    "    print(cb)\n"
   ]
  },
  {
   "cell_type": "code",
   "execution_count": null,
   "metadata": {},
   "outputs": [],
   "source": []
  }
 ],
 "metadata": {
  "kernelspec": {
   "display_name": "env",
   "language": "python",
   "name": "python3"
  },
  "language_info": {
   "codemirror_mode": {
    "name": "ipython",
    "version": 3
   },
   "file_extension": ".py",
   "mimetype": "text/x-python",
   "name": "python",
   "nbconvert_exporter": "python",
   "pygments_lexer": "ipython3",
   "version": "3.10.12"
  }
 },
 "nbformat": 4,
 "nbformat_minor": 2
}
